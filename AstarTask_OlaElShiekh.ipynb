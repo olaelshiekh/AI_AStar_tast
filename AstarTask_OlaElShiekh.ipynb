{
 "cells": [
  {
   "cell_type": "code",
   "execution_count": 1,
   "id": "4ce8b597",
   "metadata": {},
   "outputs": [
    {
     "name": "stdout",
     "output_type": "stream",
     "text": [
      "{'5': ['3', '7'], '3': ['2', '4'], '7': ['8'], '2': [], '4': ['8'], '8': ['10', '15'], '10': [], '15': ['27', '96'], '27': [], '96': []}\n",
      "Following is the Breadth-First Search\n",
      "5 3 7 2 4 8 10 15 27 96 "
     ]
    }
   ],
   "source": [
    "import ast\n",
    "\n",
    "#Get Data From File \n",
    "file = open('graph.txt','r')\n",
    "data = file.read()\n",
    "graph = ast.literal_eval(data)\n",
    "print(graph)\n",
    "file.close()\n",
    "\n",
    "visited = [] # List for visited nodes.\n",
    "queue = [] # Initialize a queue\n",
    "def bfs(visited, graph, node): # function for BFS\n",
    "    visited.append(node)\n",
    "    queue.append(node)\n",
    "    while queue: # Creating loop to visit each node\n",
    "        m = queue.pop(0)\n",
    "        print(m, end=\" \")\n",
    "        for neighbour in graph[m]:\n",
    "            if neighbour not in visited:\n",
    "                visited.append(neighbour)\n",
    "                queue.append(neighbour)\n",
    "# Driver Code\n",
    "print(\"Following is the Breadth-First Search\")\n",
    "bfs(visited, graph, '5') # function calling"
   ]
  },
  {
   "cell_type": "markdown",
   "id": "fcfc831a",
   "metadata": {},
   "source": [
    "-----------------------\n",
    "***`AI Python AStar Task. \n",
    "Done by : Ola El-Shiekh\n",
    "To : Dr. Ahmed Ghozaia`***\n",
    "--------------------"
   ]
  }
 ],
 "metadata": {
  "kernelspec": {
   "display_name": "Python 3",
   "language": "python",
   "name": "python3"
  },
  "language_info": {
   "codemirror_mode": {
    "name": "ipython",
    "version": 3
   },
   "file_extension": ".py",
   "mimetype": "text/x-python",
   "name": "python",
   "nbconvert_exporter": "python",
   "pygments_lexer": "ipython3",
   "version": "3.8.8"
  }
 },
 "nbformat": 4,
 "nbformat_minor": 5
}
